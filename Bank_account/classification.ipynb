{
 "cells": [
  {
   "cell_type": "code",
   "execution_count": 49,
   "metadata": {},
   "outputs": [],
   "source": [
    "import pandas as pd\n",
    "import numpy as np\n",
    "import seaborn as sns\n",
    "from sklearn.model_selection import train_test_split\n",
    "from sklearn.tree import DecisionTreeClassifier\n",
    "from sklearn.metrics import accuracy_score, classification_report\n",
    "from sklearn.ensemble import GradientBoostingClassifier\n",
    "from sklearn.ensemble import RandomForestClassifier\n",
    "import xgboost as xgb\n",
    "import matplotlib.pyplot as plt\n"
   ]
  },
  {
   "cell_type": "code",
   "execution_count": 50,
   "metadata": {},
   "outputs": [
    {
     "data": {
      "text/html": [
       "<div>\n",
       "<style scoped>\n",
       "    .dataframe tbody tr th:only-of-type {\n",
       "        vertical-align: middle;\n",
       "    }\n",
       "\n",
       "    .dataframe tbody tr th {\n",
       "        vertical-align: top;\n",
       "    }\n",
       "\n",
       "    .dataframe thead th {\n",
       "        text-align: right;\n",
       "    }\n",
       "</style>\n",
       "<table border=\"1\" class=\"dataframe\">\n",
       "  <thead>\n",
       "    <tr style=\"text-align: right;\">\n",
       "      <th></th>\n",
       "      <th>country</th>\n",
       "      <th>year</th>\n",
       "      <th>uniqueid</th>\n",
       "      <th>bank_account</th>\n",
       "      <th>location_type</th>\n",
       "      <th>cellphone_access</th>\n",
       "      <th>household_size</th>\n",
       "      <th>age_of_respondent</th>\n",
       "      <th>gender_of_respondent</th>\n",
       "      <th>relationship_with_head</th>\n",
       "      <th>marital_status</th>\n",
       "      <th>education_level</th>\n",
       "      <th>job_type</th>\n",
       "    </tr>\n",
       "  </thead>\n",
       "  <tbody>\n",
       "    <tr>\n",
       "      <th>3951</th>\n",
       "      <td>Kenya</td>\n",
       "      <td>2018</td>\n",
       "      <td>uniqueid_3952</td>\n",
       "      <td>No</td>\n",
       "      <td>Rural</td>\n",
       "      <td>Yes</td>\n",
       "      <td>1</td>\n",
       "      <td>71</td>\n",
       "      <td>Female</td>\n",
       "      <td>Head of Household</td>\n",
       "      <td>Widowed</td>\n",
       "      <td>Primary education</td>\n",
       "      <td>Informally employed</td>\n",
       "    </tr>\n",
       "    <tr>\n",
       "      <th>4538</th>\n",
       "      <td>Kenya</td>\n",
       "      <td>2018</td>\n",
       "      <td>uniqueid_4539</td>\n",
       "      <td>No</td>\n",
       "      <td>Rural</td>\n",
       "      <td>Yes</td>\n",
       "      <td>7</td>\n",
       "      <td>70</td>\n",
       "      <td>Female</td>\n",
       "      <td>Head of Household</td>\n",
       "      <td>Widowed</td>\n",
       "      <td>Primary education</td>\n",
       "      <td>Remittance Dependent</td>\n",
       "    </tr>\n",
       "    <tr>\n",
       "      <th>13485</th>\n",
       "      <td>Rwanda</td>\n",
       "      <td>2016</td>\n",
       "      <td>uniqueid_7418</td>\n",
       "      <td>Yes</td>\n",
       "      <td>Rural</td>\n",
       "      <td>Yes</td>\n",
       "      <td>5</td>\n",
       "      <td>34</td>\n",
       "      <td>Male</td>\n",
       "      <td>Head of Household</td>\n",
       "      <td>Married/Living together</td>\n",
       "      <td>Primary education</td>\n",
       "      <td>Informally employed</td>\n",
       "    </tr>\n",
       "    <tr>\n",
       "      <th>12788</th>\n",
       "      <td>Rwanda</td>\n",
       "      <td>2016</td>\n",
       "      <td>uniqueid_6721</td>\n",
       "      <td>No</td>\n",
       "      <td>Rural</td>\n",
       "      <td>Yes</td>\n",
       "      <td>1</td>\n",
       "      <td>75</td>\n",
       "      <td>Female</td>\n",
       "      <td>Head of Household</td>\n",
       "      <td>Widowed</td>\n",
       "      <td>No formal education</td>\n",
       "      <td>Government Dependent</td>\n",
       "    </tr>\n",
       "    <tr>\n",
       "      <th>14557</th>\n",
       "      <td>Rwanda</td>\n",
       "      <td>2016</td>\n",
       "      <td>uniqueid_8490</td>\n",
       "      <td>No</td>\n",
       "      <td>Rural</td>\n",
       "      <td>Yes</td>\n",
       "      <td>6</td>\n",
       "      <td>60</td>\n",
       "      <td>Male</td>\n",
       "      <td>Head of Household</td>\n",
       "      <td>Married/Living together</td>\n",
       "      <td>No formal education</td>\n",
       "      <td>Informally employed</td>\n",
       "    </tr>\n",
       "    <tr>\n",
       "      <th>9368</th>\n",
       "      <td>Rwanda</td>\n",
       "      <td>2016</td>\n",
       "      <td>uniqueid_3301</td>\n",
       "      <td>No</td>\n",
       "      <td>Rural</td>\n",
       "      <td>Yes</td>\n",
       "      <td>4</td>\n",
       "      <td>29</td>\n",
       "      <td>Female</td>\n",
       "      <td>Spouse</td>\n",
       "      <td>Married/Living together</td>\n",
       "      <td>Secondary education</td>\n",
       "      <td>Farming and Fishing</td>\n",
       "    </tr>\n",
       "    <tr>\n",
       "      <th>19700</th>\n",
       "      <td>Tanzania</td>\n",
       "      <td>2017</td>\n",
       "      <td>uniqueid_4898</td>\n",
       "      <td>Yes</td>\n",
       "      <td>Urban</td>\n",
       "      <td>Yes</td>\n",
       "      <td>2</td>\n",
       "      <td>34</td>\n",
       "      <td>Male</td>\n",
       "      <td>Head of Household</td>\n",
       "      <td>Single/Never Married</td>\n",
       "      <td>Primary education</td>\n",
       "      <td>Self employed</td>\n",
       "    </tr>\n",
       "    <tr>\n",
       "      <th>6693</th>\n",
       "      <td>Rwanda</td>\n",
       "      <td>2016</td>\n",
       "      <td>uniqueid_626</td>\n",
       "      <td>No</td>\n",
       "      <td>Rural</td>\n",
       "      <td>Yes</td>\n",
       "      <td>3</td>\n",
       "      <td>60</td>\n",
       "      <td>Female</td>\n",
       "      <td>Head of Household</td>\n",
       "      <td>Widowed</td>\n",
       "      <td>No formal education</td>\n",
       "      <td>Remittance Dependent</td>\n",
       "    </tr>\n",
       "    <tr>\n",
       "      <th>208</th>\n",
       "      <td>Kenya</td>\n",
       "      <td>2018</td>\n",
       "      <td>uniqueid_209</td>\n",
       "      <td>No</td>\n",
       "      <td>Rural</td>\n",
       "      <td>No</td>\n",
       "      <td>5</td>\n",
       "      <td>80</td>\n",
       "      <td>Female</td>\n",
       "      <td>Head of Household</td>\n",
       "      <td>Widowed</td>\n",
       "      <td>No formal education</td>\n",
       "      <td>Government Dependent</td>\n",
       "    </tr>\n",
       "    <tr>\n",
       "      <th>22266</th>\n",
       "      <td>Uganda</td>\n",
       "      <td>2018</td>\n",
       "      <td>uniqueid_844</td>\n",
       "      <td>Yes</td>\n",
       "      <td>Urban</td>\n",
       "      <td>Yes</td>\n",
       "      <td>13</td>\n",
       "      <td>47</td>\n",
       "      <td>Male</td>\n",
       "      <td>Parent</td>\n",
       "      <td>Married/Living together</td>\n",
       "      <td>Primary education</td>\n",
       "      <td>Formally employed Private</td>\n",
       "    </tr>\n",
       "  </tbody>\n",
       "</table>\n",
       "</div>"
      ],
      "text/plain": [
       "        country  year       uniqueid bank_account location_type  \\\n",
       "3951      Kenya  2018  uniqueid_3952           No         Rural   \n",
       "4538      Kenya  2018  uniqueid_4539           No         Rural   \n",
       "13485    Rwanda  2016  uniqueid_7418          Yes         Rural   \n",
       "12788    Rwanda  2016  uniqueid_6721           No         Rural   \n",
       "14557    Rwanda  2016  uniqueid_8490           No         Rural   \n",
       "9368     Rwanda  2016  uniqueid_3301           No         Rural   \n",
       "19700  Tanzania  2017  uniqueid_4898          Yes         Urban   \n",
       "6693     Rwanda  2016   uniqueid_626           No         Rural   \n",
       "208       Kenya  2018   uniqueid_209           No         Rural   \n",
       "22266    Uganda  2018   uniqueid_844          Yes         Urban   \n",
       "\n",
       "      cellphone_access  household_size  age_of_respondent  \\\n",
       "3951               Yes               1                 71   \n",
       "4538               Yes               7                 70   \n",
       "13485              Yes               5                 34   \n",
       "12788              Yes               1                 75   \n",
       "14557              Yes               6                 60   \n",
       "9368               Yes               4                 29   \n",
       "19700              Yes               2                 34   \n",
       "6693               Yes               3                 60   \n",
       "208                 No               5                 80   \n",
       "22266              Yes              13                 47   \n",
       "\n",
       "      gender_of_respondent relationship_with_head           marital_status  \\\n",
       "3951                Female      Head of Household                  Widowed   \n",
       "4538                Female      Head of Household                  Widowed   \n",
       "13485                 Male      Head of Household  Married/Living together   \n",
       "12788               Female      Head of Household                  Widowed   \n",
       "14557                 Male      Head of Household  Married/Living together   \n",
       "9368                Female                 Spouse  Married/Living together   \n",
       "19700                 Male      Head of Household     Single/Never Married   \n",
       "6693                Female      Head of Household                  Widowed   \n",
       "208                 Female      Head of Household                  Widowed   \n",
       "22266                 Male                 Parent  Married/Living together   \n",
       "\n",
       "           education_level                   job_type  \n",
       "3951     Primary education        Informally employed  \n",
       "4538     Primary education       Remittance Dependent  \n",
       "13485    Primary education        Informally employed  \n",
       "12788  No formal education       Government Dependent  \n",
       "14557  No formal education        Informally employed  \n",
       "9368   Secondary education        Farming and Fishing  \n",
       "19700    Primary education              Self employed  \n",
       "6693   No formal education       Remittance Dependent  \n",
       "208    No formal education       Government Dependent  \n",
       "22266    Primary education  Formally employed Private  "
      ]
     },
     "execution_count": 50,
     "metadata": {},
     "output_type": "execute_result"
    }
   ],
   "source": [
    "df = pd.read_csv(\"Train (1).csv\")\n",
    "df.sample(10)"
   ]
  },
  {
   "cell_type": "code",
   "execution_count": 51,
   "metadata": {},
   "outputs": [
    {
     "data": {
      "text/plain": [
       "country                   0\n",
       "year                      0\n",
       "uniqueid                  0\n",
       "bank_account              0\n",
       "location_type             0\n",
       "cellphone_access          0\n",
       "household_size            0\n",
       "age_of_respondent         0\n",
       "gender_of_respondent      0\n",
       "relationship_with_head    0\n",
       "marital_status            0\n",
       "education_level           0\n",
       "job_type                  0\n",
       "dtype: int64"
      ]
     },
     "execution_count": 51,
     "metadata": {},
     "output_type": "execute_result"
    }
   ],
   "source": [
    "df.isna().sum()"
   ]
  },
  {
   "cell_type": "code",
   "execution_count": 52,
   "metadata": {},
   "outputs": [
    {
     "data": {
      "text/plain": [
       "np.int64(0)"
      ]
     },
     "execution_count": 52,
     "metadata": {},
     "output_type": "execute_result"
    }
   ],
   "source": [
    "df.duplicated().sum()"
   ]
  },
  {
   "cell_type": "code",
   "execution_count": 53,
   "metadata": {},
   "outputs": [
    {
     "data": {
      "text/plain": [
       "country                   object\n",
       "year                       int64\n",
       "uniqueid                  object\n",
       "bank_account              object\n",
       "location_type             object\n",
       "cellphone_access          object\n",
       "household_size             int64\n",
       "age_of_respondent          int64\n",
       "gender_of_respondent      object\n",
       "relationship_with_head    object\n",
       "marital_status            object\n",
       "education_level           object\n",
       "job_type                  object\n",
       "dtype: object"
      ]
     },
     "execution_count": 53,
     "metadata": {},
     "output_type": "execute_result"
    }
   ],
   "source": [
    "df.dtypes"
   ]
  },
  {
   "cell_type": "code",
   "execution_count": 54,
   "metadata": {},
   "outputs": [
    {
     "data": {
      "text/plain": [
       "Index(['country', 'year', 'uniqueid', 'bank_account', 'location_type',\n",
       "       'cellphone_access', 'household_size', 'age_of_respondent',\n",
       "       'gender_of_respondent', 'relationship_with_head', 'marital_status',\n",
       "       'education_level', 'job_type'],\n",
       "      dtype='object')"
      ]
     },
     "execution_count": 54,
     "metadata": {},
     "output_type": "execute_result"
    }
   ],
   "source": [
    "df.columns"
   ]
  },
  {
   "cell_type": "code",
   "execution_count": 55,
   "metadata": {},
   "outputs": [
    {
     "data": {
      "text/plain": [
       "country                      4\n",
       "year                         3\n",
       "uniqueid                  8735\n",
       "bank_account                 2\n",
       "location_type                2\n",
       "cellphone_access             2\n",
       "household_size              20\n",
       "age_of_respondent           85\n",
       "gender_of_respondent         2\n",
       "relationship_with_head       6\n",
       "marital_status               5\n",
       "education_level              6\n",
       "job_type                    10\n",
       "dtype: int64"
      ]
     },
     "execution_count": 55,
     "metadata": {},
     "output_type": "execute_result"
    }
   ],
   "source": [
    "df.nunique()"
   ]
  },
  {
   "cell_type": "code",
   "execution_count": 56,
   "metadata": {},
   "outputs": [
    {
     "data": {
      "text/plain": [
       "Index(['country', 'uniqueid', 'bank_account', 'location_type',\n",
       "       'cellphone_access', 'gender_of_respondent', 'relationship_with_head',\n",
       "       'marital_status', 'education_level', 'job_type'],\n",
       "      dtype='object')"
      ]
     },
     "execution_count": 56,
     "metadata": {},
     "output_type": "execute_result"
    }
   ],
   "source": [
    "df_categorical = df.select_dtypes([\"object\"])\n",
    "df_categorical.columns\n"
   ]
  },
  {
   "cell_type": "code",
   "execution_count": 57,
   "metadata": {},
   "outputs": [
    {
     "data": {
      "text/html": [
       "<div>\n",
       "<style scoped>\n",
       "    .dataframe tbody tr th:only-of-type {\n",
       "        vertical-align: middle;\n",
       "    }\n",
       "\n",
       "    .dataframe tbody tr th {\n",
       "        vertical-align: top;\n",
       "    }\n",
       "\n",
       "    .dataframe thead th {\n",
       "        text-align: right;\n",
       "    }\n",
       "</style>\n",
       "<table border=\"1\" class=\"dataframe\">\n",
       "  <thead>\n",
       "    <tr style=\"text-align: right;\">\n",
       "      <th></th>\n",
       "      <th>count</th>\n",
       "      <th>unique</th>\n",
       "      <th>top</th>\n",
       "      <th>freq</th>\n",
       "    </tr>\n",
       "  </thead>\n",
       "  <tbody>\n",
       "    <tr>\n",
       "      <th>country</th>\n",
       "      <td>23524</td>\n",
       "      <td>4</td>\n",
       "      <td>Rwanda</td>\n",
       "      <td>8735</td>\n",
       "    </tr>\n",
       "    <tr>\n",
       "      <th>uniqueid</th>\n",
       "      <td>23524</td>\n",
       "      <td>8735</td>\n",
       "      <td>uniqueid_17</td>\n",
       "      <td>4</td>\n",
       "    </tr>\n",
       "    <tr>\n",
       "      <th>bank_account</th>\n",
       "      <td>23524</td>\n",
       "      <td>2</td>\n",
       "      <td>No</td>\n",
       "      <td>20212</td>\n",
       "    </tr>\n",
       "    <tr>\n",
       "      <th>location_type</th>\n",
       "      <td>23524</td>\n",
       "      <td>2</td>\n",
       "      <td>Rural</td>\n",
       "      <td>14343</td>\n",
       "    </tr>\n",
       "    <tr>\n",
       "      <th>cellphone_access</th>\n",
       "      <td>23524</td>\n",
       "      <td>2</td>\n",
       "      <td>Yes</td>\n",
       "      <td>17454</td>\n",
       "    </tr>\n",
       "    <tr>\n",
       "      <th>gender_of_respondent</th>\n",
       "      <td>23524</td>\n",
       "      <td>2</td>\n",
       "      <td>Female</td>\n",
       "      <td>13877</td>\n",
       "    </tr>\n",
       "    <tr>\n",
       "      <th>relationship_with_head</th>\n",
       "      <td>23524</td>\n",
       "      <td>6</td>\n",
       "      <td>Head of Household</td>\n",
       "      <td>12831</td>\n",
       "    </tr>\n",
       "    <tr>\n",
       "      <th>marital_status</th>\n",
       "      <td>23524</td>\n",
       "      <td>5</td>\n",
       "      <td>Married/Living together</td>\n",
       "      <td>10749</td>\n",
       "    </tr>\n",
       "    <tr>\n",
       "      <th>education_level</th>\n",
       "      <td>23524</td>\n",
       "      <td>6</td>\n",
       "      <td>Primary education</td>\n",
       "      <td>12791</td>\n",
       "    </tr>\n",
       "    <tr>\n",
       "      <th>job_type</th>\n",
       "      <td>23524</td>\n",
       "      <td>10</td>\n",
       "      <td>Self employed</td>\n",
       "      <td>6437</td>\n",
       "    </tr>\n",
       "  </tbody>\n",
       "</table>\n",
       "</div>"
      ],
      "text/plain": [
       "                        count unique                      top   freq\n",
       "country                 23524      4                   Rwanda   8735\n",
       "uniqueid                23524   8735              uniqueid_17      4\n",
       "bank_account            23524      2                       No  20212\n",
       "location_type           23524      2                    Rural  14343\n",
       "cellphone_access        23524      2                      Yes  17454\n",
       "gender_of_respondent    23524      2                   Female  13877\n",
       "relationship_with_head  23524      6        Head of Household  12831\n",
       "marital_status          23524      5  Married/Living together  10749\n",
       "education_level         23524      6        Primary education  12791\n",
       "job_type                23524     10            Self employed   6437"
      ]
     },
     "execution_count": 57,
     "metadata": {},
     "output_type": "execute_result"
    }
   ],
   "source": [
    "df.describe(include='O').transpose()"
   ]
  },
  {
   "cell_type": "code",
   "execution_count": 58,
   "metadata": {},
   "outputs": [
    {
     "data": {
      "text/html": [
       "<div>\n",
       "<style scoped>\n",
       "    .dataframe tbody tr th:only-of-type {\n",
       "        vertical-align: middle;\n",
       "    }\n",
       "\n",
       "    .dataframe tbody tr th {\n",
       "        vertical-align: top;\n",
       "    }\n",
       "\n",
       "    .dataframe thead th {\n",
       "        text-align: right;\n",
       "    }\n",
       "</style>\n",
       "<table border=\"1\" class=\"dataframe\">\n",
       "  <thead>\n",
       "    <tr style=\"text-align: right;\">\n",
       "      <th></th>\n",
       "      <th>country</th>\n",
       "      <th>year</th>\n",
       "      <th>uniqueid</th>\n",
       "      <th>bank_account</th>\n",
       "      <th>location_type</th>\n",
       "      <th>cellphone_access</th>\n",
       "      <th>household_size</th>\n",
       "      <th>age_of_respondent</th>\n",
       "      <th>gender_of_respondent</th>\n",
       "      <th>relationship_with_head</th>\n",
       "      <th>marital_status</th>\n",
       "      <th>education_level</th>\n",
       "      <th>job_type</th>\n",
       "    </tr>\n",
       "  </thead>\n",
       "  <tbody>\n",
       "    <tr>\n",
       "      <th>16</th>\n",
       "      <td>Kenya</td>\n",
       "      <td>2018</td>\n",
       "      <td>uniqueid_17</td>\n",
       "      <td>No</td>\n",
       "      <td>Urban</td>\n",
       "      <td>Yes</td>\n",
       "      <td>1</td>\n",
       "      <td>47</td>\n",
       "      <td>Female</td>\n",
       "      <td>Head of Household</td>\n",
       "      <td>Married/Living together</td>\n",
       "      <td>Secondary education</td>\n",
       "      <td>Self employed</td>\n",
       "    </tr>\n",
       "    <tr>\n",
       "      <th>6084</th>\n",
       "      <td>Rwanda</td>\n",
       "      <td>2016</td>\n",
       "      <td>uniqueid_17</td>\n",
       "      <td>No</td>\n",
       "      <td>Rural</td>\n",
       "      <td>Yes</td>\n",
       "      <td>3</td>\n",
       "      <td>24</td>\n",
       "      <td>Male</td>\n",
       "      <td>Head of Household</td>\n",
       "      <td>Married/Living together</td>\n",
       "      <td>Primary education</td>\n",
       "      <td>Farming and Fishing</td>\n",
       "    </tr>\n",
       "    <tr>\n",
       "      <th>14819</th>\n",
       "      <td>Tanzania</td>\n",
       "      <td>2017</td>\n",
       "      <td>uniqueid_17</td>\n",
       "      <td>No</td>\n",
       "      <td>Urban</td>\n",
       "      <td>No</td>\n",
       "      <td>1</td>\n",
       "      <td>38</td>\n",
       "      <td>Female</td>\n",
       "      <td>Head of Household</td>\n",
       "      <td>Widowed</td>\n",
       "      <td>Primary education</td>\n",
       "      <td>Self employed</td>\n",
       "    </tr>\n",
       "    <tr>\n",
       "      <th>21439</th>\n",
       "      <td>Uganda</td>\n",
       "      <td>2018</td>\n",
       "      <td>uniqueid_17</td>\n",
       "      <td>No</td>\n",
       "      <td>Rural</td>\n",
       "      <td>No</td>\n",
       "      <td>4</td>\n",
       "      <td>50</td>\n",
       "      <td>Female</td>\n",
       "      <td>Head of Household</td>\n",
       "      <td>Divorced/Seperated</td>\n",
       "      <td>Primary education</td>\n",
       "      <td>Self employed</td>\n",
       "    </tr>\n",
       "  </tbody>\n",
       "</table>\n",
       "</div>"
      ],
      "text/plain": [
       "        country  year     uniqueid bank_account location_type  \\\n",
       "16        Kenya  2018  uniqueid_17           No         Urban   \n",
       "6084     Rwanda  2016  uniqueid_17           No         Rural   \n",
       "14819  Tanzania  2017  uniqueid_17           No         Urban   \n",
       "21439    Uganda  2018  uniqueid_17           No         Rural   \n",
       "\n",
       "      cellphone_access  household_size  age_of_respondent  \\\n",
       "16                 Yes               1                 47   \n",
       "6084               Yes               3                 24   \n",
       "14819               No               1                 38   \n",
       "21439               No               4                 50   \n",
       "\n",
       "      gender_of_respondent relationship_with_head           marital_status  \\\n",
       "16                  Female      Head of Household  Married/Living together   \n",
       "6084                  Male      Head of Household  Married/Living together   \n",
       "14819               Female      Head of Household                  Widowed   \n",
       "21439               Female      Head of Household       Divorced/Seperated   \n",
       "\n",
       "           education_level             job_type  \n",
       "16     Secondary education        Self employed  \n",
       "6084     Primary education  Farming and Fishing  \n",
       "14819    Primary education        Self employed  \n",
       "21439    Primary education        Self employed  "
      ]
     },
     "execution_count": 58,
     "metadata": {},
     "output_type": "execute_result"
    }
   ],
   "source": [
    "df[df[\"uniqueid\"] == \"uniqueid_17\"]"
   ]
  },
  {
   "cell_type": "code",
   "execution_count": 59,
   "metadata": {},
   "outputs": [
    {
     "data": {
      "text/plain": [
       "country\n",
       "Rwanda      8735\n",
       "Tanzania    6620\n",
       "Kenya       6068\n",
       "Uganda      2101\n",
       "Name: count, dtype: int64"
      ]
     },
     "execution_count": 59,
     "metadata": {},
     "output_type": "execute_result"
    }
   ],
   "source": [
    "df[\"country\"].value_counts()"
   ]
  },
  {
   "cell_type": "code",
   "execution_count": 60,
   "metadata": {},
   "outputs": [
    {
     "data": {
      "text/plain": [
       "uniqueid\n",
       "uniqueid_17      4\n",
       "uniqueid_16      4\n",
       "uniqueid_18      4\n",
       "uniqueid_2       4\n",
       "uniqueid_3       4\n",
       "                ..\n",
       "uniqueid_7303    1\n",
       "uniqueid_7302    1\n",
       "uniqueid_7301    1\n",
       "uniqueid_7300    1\n",
       "uniqueid_7308    1\n",
       "Name: count, Length: 8735, dtype: int64"
      ]
     },
     "execution_count": 60,
     "metadata": {},
     "output_type": "execute_result"
    }
   ],
   "source": [
    "df[\"uniqueid\"].value_counts()"
   ]
  },
  {
   "cell_type": "code",
   "execution_count": 61,
   "metadata": {},
   "outputs": [
    {
     "data": {
      "text/plain": [
       "gender_of_respondent\n",
       "Female    13877\n",
       "Male       9647\n",
       "Name: count, dtype: int64"
      ]
     },
     "execution_count": 61,
     "metadata": {},
     "output_type": "execute_result"
    }
   ],
   "source": [
    "df[\"gender_of_respondent\"].value_counts()"
   ]
  },
  {
   "cell_type": "code",
   "execution_count": 62,
   "metadata": {},
   "outputs": [
    {
     "data": {
      "text/plain": [
       "gender_of_respondent  country \n",
       "Female                Rwanda      5204\n",
       "                      Tanzania    3806\n",
       "Male                  Rwanda      3531\n",
       "Female                Kenya       3482\n",
       "Male                  Tanzania    2814\n",
       "                      Kenya       2586\n",
       "Female                Uganda      1385\n",
       "Male                  Uganda       716\n",
       "Name: count, dtype: int64"
      ]
     },
     "execution_count": 62,
     "metadata": {},
     "output_type": "execute_result"
    }
   ],
   "source": [
    "df2=df[[\"gender_of_respondent\",\"country\"]].value_counts()\n",
    "df2"
   ]
  },
  {
   "cell_type": "code",
   "execution_count": 63,
   "metadata": {},
   "outputs": [
    {
     "data": {
      "text/plain": [
       "MultiIndex([('Female',   'Rwanda'),\n",
       "            ('Female', 'Tanzania'),\n",
       "            (  'Male',   'Rwanda'),\n",
       "            ('Female',    'Kenya'),\n",
       "            (  'Male', 'Tanzania'),\n",
       "            (  'Male',    'Kenya'),\n",
       "            ('Female',   'Uganda'),\n",
       "            (  'Male',   'Uganda')],\n",
       "           names=['gender_of_respondent', 'country'])"
      ]
     },
     "execution_count": 63,
     "metadata": {},
     "output_type": "execute_result"
    }
   ],
   "source": [
    "df2.index"
   ]
  },
  {
   "cell_type": "code",
   "execution_count": 64,
   "metadata": {},
   "outputs": [
    {
     "data": {
      "image/png": "[encoded data removed]",
      "text/plain": [
       "<Figure size 800x800 with 1 Axes>"
      ]
     },
     "metadata": {},
     "output_type": "display_data"
    }
   ],
   "source": [
    "\n",
    "# Calculer les proportions\n",
    "proportions = df2 / df2.sum()\n",
    "\n",
    "# Créer un diagramme circulaire\n",
    "plt.figure(figsize=(8, 8))\n",
    "plt.pie(proportions, labels=df2.index, autopct='%1.1f%%', startangle=140)\n",
    "plt.title('Proportions circulaires des catégories')\n",
    "plt.axis('equal')  # Pour s'assurer que le diagramme soit un cercle plutôt qu'une ellipse\n",
    "plt.show()"
   ]
  },
  {
   "cell_type": "code",
   "execution_count": 65,
   "metadata": {},
   "outputs": [
    {
     "data": {
      "text/html": [
       "<div>\n",
       "<style scoped>\n",
       "    .dataframe tbody tr th:only-of-type {\n",
       "        vertical-align: middle;\n",
       "    }\n",
       "\n",
       "    .dataframe tbody tr th {\n",
       "        vertical-align: top;\n",
       "    }\n",
       "\n",
       "    .dataframe thead th {\n",
       "        text-align: right;\n",
       "    }\n",
       "</style>\n",
       "<table border=\"1\" class=\"dataframe\">\n",
       "  <thead>\n",
       "    <tr style=\"text-align: right;\">\n",
       "      <th></th>\n",
       "      <th>bank_account</th>\n",
       "      <th>location_type</th>\n",
       "    </tr>\n",
       "  </thead>\n",
       "  <tbody>\n",
       "    <tr>\n",
       "      <th>20120</th>\n",
       "      <td>No</td>\n",
       "      <td>Urban</td>\n",
       "    </tr>\n",
       "    <tr>\n",
       "      <th>9678</th>\n",
       "      <td>No</td>\n",
       "      <td>Rural</td>\n",
       "    </tr>\n",
       "    <tr>\n",
       "      <th>13877</th>\n",
       "      <td>No</td>\n",
       "      <td>Rural</td>\n",
       "    </tr>\n",
       "    <tr>\n",
       "      <th>6077</th>\n",
       "      <td>Yes</td>\n",
       "      <td>Urban</td>\n",
       "    </tr>\n",
       "    <tr>\n",
       "      <th>17</th>\n",
       "      <td>Yes</td>\n",
       "      <td>Rural</td>\n",
       "    </tr>\n",
       "    <tr>\n",
       "      <th>1378</th>\n",
       "      <td>No</td>\n",
       "      <td>Rural</td>\n",
       "    </tr>\n",
       "    <tr>\n",
       "      <th>1032</th>\n",
       "      <td>No</td>\n",
       "      <td>Rural</td>\n",
       "    </tr>\n",
       "  </tbody>\n",
       "</table>\n",
       "</div>"
      ],
      "text/plain": [
       "      bank_account location_type\n",
       "20120           No         Urban\n",
       "9678            No         Rural\n",
       "13877           No         Rural\n",
       "6077           Yes         Urban\n",
       "17             Yes         Rural\n",
       "1378            No         Rural\n",
       "1032            No         Rural"
      ]
     },
     "execution_count": 65,
     "metadata": {},
     "output_type": "execute_result"
    }
   ],
   "source": [
    "df[[\"bank_account\", \"location_type\"]].sample(7)"
   ]
  },
  {
   "cell_type": "code",
   "execution_count": 66,
   "metadata": {},
   "outputs": [
    {
     "data": {
      "text/plain": [
       "bank_account  location_type\n",
       "No            Rural            0.538684\n",
       "              Urban            0.320524\n",
       "Yes           Rural            0.071034\n",
       "              Urban            0.069759\n",
       "Name: proportion, dtype: float64"
      ]
     },
     "execution_count": 66,
     "metadata": {},
     "output_type": "execute_result"
    }
   ],
   "source": [
    "df[[\"bank_account\",\"location_type\"]].value_counts(normalize=True)"
   ]
  },
  {
   "cell_type": "code",
   "execution_count": 67,
   "metadata": {},
   "outputs": [
    {
     "data": {
      "text/plain": [
       "bank_account\n",
       "No     0.883497\n",
       "Yes    0.116503\n",
       "Name: proportion, dtype: float64"
      ]
     },
     "execution_count": 67,
     "metadata": {},
     "output_type": "execute_result"
    }
   ],
   "source": [
    "df3=df[df[\"location_type\"]==\"Rural\"]\n",
    "df3[\"bank_account\"].value_counts(normalize=True)"
   ]
  },
  {
   "cell_type": "code",
   "execution_count": 68,
   "metadata": {},
   "outputs": [
    {
     "data": {
      "text/html": [
       "<div>\n",
       "<style scoped>\n",
       "    .dataframe tbody tr th:only-of-type {\n",
       "        vertical-align: middle;\n",
       "    }\n",
       "\n",
       "    .dataframe tbody tr th {\n",
       "        vertical-align: top;\n",
       "    }\n",
       "\n",
       "    .dataframe thead th {\n",
       "        text-align: right;\n",
       "    }\n",
       "</style>\n",
       "<table border=\"1\" class=\"dataframe\">\n",
       "  <thead>\n",
       "    <tr style=\"text-align: right;\">\n",
       "      <th></th>\n",
       "      <th>bank_account</th>\n",
       "      <th>cellphone_access</th>\n",
       "    </tr>\n",
       "  </thead>\n",
       "  <tbody>\n",
       "    <tr>\n",
       "      <th>7485</th>\n",
       "      <td>Yes</td>\n",
       "      <td>Yes</td>\n",
       "    </tr>\n",
       "    <tr>\n",
       "      <th>15301</th>\n",
       "      <td>No</td>\n",
       "      <td>Yes</td>\n",
       "    </tr>\n",
       "    <tr>\n",
       "      <th>13868</th>\n",
       "      <td>No</td>\n",
       "      <td>Yes</td>\n",
       "    </tr>\n",
       "    <tr>\n",
       "      <th>12419</th>\n",
       "      <td>No</td>\n",
       "      <td>Yes</td>\n",
       "    </tr>\n",
       "    <tr>\n",
       "      <th>9477</th>\n",
       "      <td>No</td>\n",
       "      <td>Yes</td>\n",
       "    </tr>\n",
       "    <tr>\n",
       "      <th>6482</th>\n",
       "      <td>No</td>\n",
       "      <td>Yes</td>\n",
       "    </tr>\n",
       "    <tr>\n",
       "      <th>5832</th>\n",
       "      <td>Yes</td>\n",
       "      <td>Yes</td>\n",
       "    </tr>\n",
       "  </tbody>\n",
       "</table>\n",
       "</div>"
      ],
      "text/plain": [
       "      bank_account cellphone_access\n",
       "7485           Yes              Yes\n",
       "15301           No              Yes\n",
       "13868           No              Yes\n",
       "12419           No              Yes\n",
       "9477            No              Yes\n",
       "6482            No              Yes\n",
       "5832           Yes              Yes"
      ]
     },
     "execution_count": 68,
     "metadata": {},
     "output_type": "execute_result"
    }
   ],
   "source": [
    "df[[\"bank_account\", \"cellphone_access\"]].sample(7)"
   ]
  },
  {
   "cell_type": "code",
   "execution_count": 69,
   "metadata": {},
   "outputs": [
    {
     "data": {
      "text/plain": [
       "cellphone_access  No \n",
       "No                No     0.982867\n",
       "                  Yes    0.017133\n",
       "Yes               No     0.816203\n",
       "                  Yes    0.183797\n",
       "Name: bank_account, dtype: float64"
      ]
     },
     "execution_count": 69,
     "metadata": {},
     "output_type": "execute_result"
    }
   ],
   "source": [
    "df[[\"bank_account\", \"cellphone_access\"]].groupby(\"cellphone_access\")[\"bank_account\"].apply(lambda x : x.value_counts(normalize=\"True\"))"
   ]
  },
  {
   "cell_type": "code",
   "execution_count": 70,
   "metadata": {},
   "outputs": [
    {
     "data": {
      "text/plain": [
       "year  2016\n",
       "2016  No      0.885175\n",
       "      Yes     0.114825\n",
       "2017  No      0.908308\n",
       "      Yes     0.091692\n",
       "2018  No      0.791651\n",
       "      Yes     0.208349\n",
       "Name: bank_account, dtype: float64"
      ]
     },
     "execution_count": 70,
     "metadata": {},
     "output_type": "execute_result"
    }
   ],
   "source": [
    "df[[\"bank_account\", \"year\"]].groupby(\"year\")[\"bank_account\"].apply(lambda x:x.value_counts(normalize=\"True\"))"
   ]
  },
  {
   "cell_type": "code",
   "execution_count": 71,
   "metadata": {},
   "outputs": [
    {
     "data": {
      "text/plain": [
       "education_level                  No formal education\n",
       "No formal education              No                     0.961019\n",
       "                                 Yes                    0.038981\n",
       "Other/Dont know/RTA              No                     0.685714\n",
       "                                 Yes                    0.314286\n",
       "Primary education                No                     0.914549\n",
       "                                 Yes                    0.085451\n",
       "Secondary education              No                     0.767227\n",
       "                                 Yes                    0.232773\n",
       "Tertiary education               No                     0.489196\n",
       "                                 Yes                    0.510804\n",
       "Vocational/Specialised training  No                     0.429639\n",
       "                                 Yes                    0.570361\n",
       "Name: bank_account, dtype: float64"
      ]
     },
     "execution_count": 71,
     "metadata": {},
     "output_type": "execute_result"
    }
   ],
   "source": [
    "df[[\"bank_account\", \"education_level\"]].groupby(\"education_level\")[\"bank_account\"].apply(lambda x : x.value_counts(normalize=True).sort_index())"
   ]
  },
  {
   "cell_type": "code",
   "execution_count": 72,
   "metadata": {},
   "outputs": [
    {
     "data": {
      "text/plain": [
       "education_level                  marital_status              \n",
       "No formal education              Divorced/Seperated       No     0.965190\n",
       "                                                          Yes    0.034810\n",
       "                                 Dont know                No     1.000000\n",
       "                                 Married/Living together  No     0.956028\n",
       "                                                          Yes    0.043972\n",
       "                                 Single/Never Married     No     0.980769\n",
       "                                                          Yes    0.019231\n",
       "                                 Widowed                  No     0.955291\n",
       "                                                          Yes    0.044709\n",
       "Other/Dont know/RTA              Divorced/Seperated       No     1.000000\n",
       "                                 Married/Living together  No     0.714286\n",
       "                                                          Yes    0.285714\n",
       "                                 Single/Never Married     No     0.500000\n",
       "                                                          Yes    0.500000\n",
       "                                 Widowed                  No     0.666667\n",
       "                                                          Yes    0.333333\n",
       "Primary education                Divorced/Seperated       No     0.944549\n",
       "                                                          Yes    0.055451\n",
       "                                 Dont know                No     0.833333\n",
       "                                                          Yes    0.166667\n",
       "                                 Married/Living together  No     0.890079\n",
       "                                                          Yes    0.109921\n",
       "                                 Single/Never Married     No     0.940849\n",
       "                                                          Yes    0.059151\n",
       "                                 Widowed                  No     0.913495\n",
       "                                                          Yes    0.086505\n",
       "Secondary education              Divorced/Seperated       No     0.857923\n",
       "                                                          Yes    0.142077\n",
       "                                 Dont know                Yes    1.000000\n",
       "                                 Married/Living together  No     0.663594\n",
       "                                                          Yes    0.336406\n",
       "                                 Single/Never Married     No     0.871315\n",
       "                                                          Yes    0.128685\n",
       "                                 Widowed                  No     0.669065\n",
       "                                                          Yes    0.330935\n",
       "Tertiary education               Divorced/Seperated       No     0.761134\n",
       "                                                          Yes    0.238866\n",
       "                                 Married/Living together  No     0.244068\n",
       "                                                          Yes    0.755932\n",
       "                                 Single/Never Married     No     0.507719\n",
       "                                                          Yes    0.492281\n",
       "                                 Widowed                  No     0.312500\n",
       "                                                          Yes    0.687500\n",
       "Vocational/Specialised training  Divorced/Seperated       No     0.345679\n",
       "                                                          Yes    0.654321\n",
       "                                 Married/Living together  No     0.422680\n",
       "                                                          Yes    0.577320\n",
       "                                 Single/Never Married     No     0.445183\n",
       "                                                          Yes    0.554817\n",
       "                                 Widowed                  No     0.575758\n",
       "                                                          Yes    0.424242\n",
       "Name: bank_account, dtype: float64"
      ]
     },
     "execution_count": 72,
     "metadata": {},
     "output_type": "execute_result"
    }
   ],
   "source": [
    "df[[\"bank_account\", \"education_level\",\"marital_status\"]].groupby([\"education_level\",\"marital_status\"])[\"bank_account\"].apply(lambda x : x.value_counts(normalize=True).sort_index())"
   ]
  },
  {
   "cell_type": "code",
   "execution_count": 73,
   "metadata": {},
   "outputs": [],
   "source": [
    "nvo=['country', 'year',  'location_type', 'cellphone_access',\n",
    "       'household_size', 'age_of_respondent', 'gender_of_respondent',\n",
    "       'relationship_with_head', 'marital_status', 'education_level',\n",
    "       'job_type']"
   ]
  },
  {
   "cell_type": "code",
   "execution_count": 74,
   "metadata": {},
   "outputs": [],
   "source": [
    "X=df[nvo]\n",
    "y=df[\"bank_account\"]"
   ]
  },
  {
   "cell_type": "code",
   "execution_count": 75,
   "metadata": {},
   "outputs": [
    {
     "data": {
      "text/plain": [
       "(23524, 11)"
      ]
     },
     "execution_count": 75,
     "metadata": {},
     "output_type": "execute_result"
    }
   ],
   "source": [
    "X.shape"
   ]
  },
  {
   "cell_type": "code",
   "execution_count": 76,
   "metadata": {},
   "outputs": [
    {
     "data": {
      "text/plain": [
       "(23524,)"
      ]
     },
     "execution_count": 76,
     "metadata": {},
     "output_type": "execute_result"
    }
   ],
   "source": [
    "y.shape"
   ]
  },
  {
   "cell_type": "code",
   "execution_count": 77,
   "metadata": {},
   "outputs": [
    {
     "data": {
      "text/html": [
       "<div>\n",
       "<style scoped>\n",
       "    .dataframe tbody tr th:only-of-type {\n",
       "        vertical-align: middle;\n",
       "    }\n",
       "\n",
       "    .dataframe tbody tr th {\n",
       "        vertical-align: top;\n",
       "    }\n",
       "\n",
       "    .dataframe thead th {\n",
       "        text-align: right;\n",
       "    }\n",
       "</style>\n",
       "<table border=\"1\" class=\"dataframe\">\n",
       "  <thead>\n",
       "    <tr style=\"text-align: right;\">\n",
       "      <th></th>\n",
       "      <th>year</th>\n",
       "      <th>household_size</th>\n",
       "      <th>age_of_respondent</th>\n",
       "      <th>country_Kenya</th>\n",
       "      <th>country_Rwanda</th>\n",
       "      <th>country_Tanzania</th>\n",
       "      <th>country_Uganda</th>\n",
       "      <th>location_type_Rural</th>\n",
       "      <th>location_type_Urban</th>\n",
       "      <th>cellphone_access_No</th>\n",
       "      <th>...</th>\n",
       "      <th>job_type_Dont Know/Refuse to answer</th>\n",
       "      <th>job_type_Farming and Fishing</th>\n",
       "      <th>job_type_Formally employed Government</th>\n",
       "      <th>job_type_Formally employed Private</th>\n",
       "      <th>job_type_Government Dependent</th>\n",
       "      <th>job_type_Informally employed</th>\n",
       "      <th>job_type_No Income</th>\n",
       "      <th>job_type_Other Income</th>\n",
       "      <th>job_type_Remittance Dependent</th>\n",
       "      <th>job_type_Self employed</th>\n",
       "    </tr>\n",
       "  </thead>\n",
       "  <tbody>\n",
       "    <tr>\n",
       "      <th>12679</th>\n",
       "      <td>2016</td>\n",
       "      <td>3</td>\n",
       "      <td>16</td>\n",
       "      <td>False</td>\n",
       "      <td>True</td>\n",
       "      <td>False</td>\n",
       "      <td>False</td>\n",
       "      <td>True</td>\n",
       "      <td>False</td>\n",
       "      <td>False</td>\n",
       "      <td>...</td>\n",
       "      <td>False</td>\n",
       "      <td>True</td>\n",
       "      <td>False</td>\n",
       "      <td>False</td>\n",
       "      <td>False</td>\n",
       "      <td>False</td>\n",
       "      <td>False</td>\n",
       "      <td>False</td>\n",
       "      <td>False</td>\n",
       "      <td>False</td>\n",
       "    </tr>\n",
       "    <tr>\n",
       "      <th>3483</th>\n",
       "      <td>2018</td>\n",
       "      <td>8</td>\n",
       "      <td>71</td>\n",
       "      <td>True</td>\n",
       "      <td>False</td>\n",
       "      <td>False</td>\n",
       "      <td>False</td>\n",
       "      <td>True</td>\n",
       "      <td>False</td>\n",
       "      <td>False</td>\n",
       "      <td>...</td>\n",
       "      <td>False</td>\n",
       "      <td>True</td>\n",
       "      <td>False</td>\n",
       "      <td>False</td>\n",
       "      <td>False</td>\n",
       "      <td>False</td>\n",
       "      <td>False</td>\n",
       "      <td>False</td>\n",
       "      <td>False</td>\n",
       "      <td>False</td>\n",
       "    </tr>\n",
       "    <tr>\n",
       "      <th>8407</th>\n",
       "      <td>2016</td>\n",
       "      <td>3</td>\n",
       "      <td>26</td>\n",
       "      <td>False</td>\n",
       "      <td>True</td>\n",
       "      <td>False</td>\n",
       "      <td>False</td>\n",
       "      <td>True</td>\n",
       "      <td>False</td>\n",
       "      <td>False</td>\n",
       "      <td>...</td>\n",
       "      <td>False</td>\n",
       "      <td>False</td>\n",
       "      <td>False</td>\n",
       "      <td>False</td>\n",
       "      <td>False</td>\n",
       "      <td>True</td>\n",
       "      <td>False</td>\n",
       "      <td>False</td>\n",
       "      <td>False</td>\n",
       "      <td>False</td>\n",
       "    </tr>\n",
       "    <tr>\n",
       "      <th>13138</th>\n",
       "      <td>2016</td>\n",
       "      <td>7</td>\n",
       "      <td>31</td>\n",
       "      <td>False</td>\n",
       "      <td>True</td>\n",
       "      <td>False</td>\n",
       "      <td>False</td>\n",
       "      <td>True</td>\n",
       "      <td>False</td>\n",
       "      <td>False</td>\n",
       "      <td>...</td>\n",
       "      <td>False</td>\n",
       "      <td>False</td>\n",
       "      <td>False</td>\n",
       "      <td>False</td>\n",
       "      <td>False</td>\n",
       "      <td>False</td>\n",
       "      <td>False</td>\n",
       "      <td>False</td>\n",
       "      <td>False</td>\n",
       "      <td>True</td>\n",
       "    </tr>\n",
       "  </tbody>\n",
       "</table>\n",
       "<p>4 rows × 40 columns</p>\n",
       "</div>"
      ],
      "text/plain": [
       "       year  household_size  age_of_respondent  country_Kenya  country_Rwanda  \\\n",
       "12679  2016               3                 16          False            True   \n",
       "3483   2018               8                 71           True           False   \n",
       "8407   2016               3                 26          False            True   \n",
       "13138  2016               7                 31          False            True   \n",
       "\n",
       "       country_Tanzania  country_Uganda  location_type_Rural  \\\n",
       "12679             False           False                 True   \n",
       "3483              False           False                 True   \n",
       "8407              False           False                 True   \n",
       "13138             False           False                 True   \n",
       "\n",
       "       location_type_Urban  cellphone_access_No  ...  \\\n",
       "12679                False                False  ...   \n",
       "3483                 False                False  ...   \n",
       "8407                 False                False  ...   \n",
       "13138                False                False  ...   \n",
       "\n",
       "       job_type_Dont Know/Refuse to answer  job_type_Farming and Fishing  \\\n",
       "12679                                False                          True   \n",
       "3483                                 False                          True   \n",
       "8407                                 False                         False   \n",
       "13138                                False                         False   \n",
       "\n",
       "       job_type_Formally employed Government  \\\n",
       "12679                                  False   \n",
       "3483                                   False   \n",
       "8407                                   False   \n",
       "13138                                  False   \n",
       "\n",
       "       job_type_Formally employed Private  job_type_Government Dependent  \\\n",
       "12679                               False                          False   \n",
       "3483                                False                          False   \n",
       "8407                                False                          False   \n",
       "13138                               False                          False   \n",
       "\n",
       "       job_type_Informally employed  job_type_No Income  \\\n",
       "12679                         False               False   \n",
       "3483                          False               False   \n",
       "8407                           True               False   \n",
       "13138                         False               False   \n",
       "\n",
       "       job_type_Other Income  job_type_Remittance Dependent  \\\n",
       "12679                  False                          False   \n",
       "3483                   False                          False   \n",
       "8407                   False                          False   \n",
       "13138                  False                          False   \n",
       "\n",
       "       job_type_Self employed  \n",
       "12679                   False  \n",
       "3483                    False  \n",
       "8407                    False  \n",
       "13138                    True  \n",
       "\n",
       "[4 rows x 40 columns]"
      ]
     },
     "execution_count": 77,
     "metadata": {},
     "output_type": "execute_result"
    }
   ],
   "source": [
    "X=pd.get_dummies(X,columns=['country',  'location_type',\n",
    "       'cellphone_access','gender_of_respondent', 'relationship_with_head', 'marital_status',\n",
    "       'education_level', 'job_type'])\n",
    "X.sample(4)"
   ]
  },
  {
   "cell_type": "code",
   "execution_count": 78,
   "metadata": {},
   "outputs": [],
   "source": [
    "X_train, X_test, y_train, y_test = train_test_split(X, y, test_size=0.2, random_state=42)"
   ]
  },
  {
   "cell_type": "code",
   "execution_count": 79,
   "metadata": {},
   "outputs": [],
   "source": [
    "def test_model(model):\n",
    "\n",
    "    \n",
    "    model.fit(X_train,y_train)\n",
    "    y_pred = model.predict(X_test)\n",
    "    accuracy=accuracy_score(y_test,y_pred)\n",
    "    rapport_classification = classification_report(y_test, y_pred)\n",
    "    print(\"accuracy=\",accuracy*100,\"%\")\n",
    "    print(rapport_classification)\n",
    "    return rapport_classification"
   ]
  },
  {
   "cell_type": "code",
   "execution_count": 80,
   "metadata": {},
   "outputs": [
    {
     "name": "stdout",
     "output_type": "stream",
     "text": [
      "accuracy= 85.99362380446334 %\n",
      "              precision    recall  f1-score   support\n",
      "\n",
      "          No       0.91      0.93      0.92      4063\n",
      "         Yes       0.48      0.39      0.43       642\n",
      "\n",
      "    accuracy                           0.86      4705\n",
      "   macro avg       0.70      0.66      0.68      4705\n",
      "weighted avg       0.85      0.86      0.85      4705\n",
      "\n"
     ]
    },
    {
     "data": {
      "text/plain": [
       "'              precision    recall  f1-score   support\\n\\n          No       0.91      0.93      0.92      4063\\n         Yes       0.48      0.39      0.43       642\\n\\n    accuracy                           0.86      4705\\n   macro avg       0.70      0.66      0.68      4705\\nweighted avg       0.85      0.86      0.85      4705\\n'"
      ]
     },
     "execution_count": 80,
     "metadata": {},
     "output_type": "execute_result"
    }
   ],
   "source": [
    "test_model(RandomForestClassifier(n_estimators=100))"
   ]
  },
  {
   "cell_type": "code",
   "execution_count": 81,
   "metadata": {},
   "outputs": [
    {
     "name": "stdout",
     "output_type": "stream",
     "text": [
      "accuracy= 89.09670563230605 %\n",
      "              precision    recall  f1-score   support\n",
      "\n",
      "          No       0.90      0.98      0.94      4063\n",
      "         Yes       0.71      0.34      0.46       642\n",
      "\n",
      "    accuracy                           0.89      4705\n",
      "   macro avg       0.81      0.66      0.70      4705\n",
      "weighted avg       0.88      0.89      0.87      4705\n",
      "\n"
     ]
    },
    {
     "data": {
      "text/plain": [
       "'              precision    recall  f1-score   support\\n\\n          No       0.90      0.98      0.94      4063\\n         Yes       0.71      0.34      0.46       642\\n\\n    accuracy                           0.89      4705\\n   macro avg       0.81      0.66      0.70      4705\\nweighted avg       0.88      0.89      0.87      4705\\n'"
      ]
     },
     "execution_count": 81,
     "metadata": {},
     "output_type": "execute_result"
    }
   ],
   "source": [
    "test_model(GradientBoostingClassifier(n_estimators=100))"
   ]
  },
  {
   "cell_type": "code",
   "execution_count": null,
   "metadata": {},
   "outputs": [],
   "source": []
  }
 ],
 "metadata": {
  "kernelspec": {
   "display_name": ".venv",
   "language": "python",
   "name": "python3"
  },
  "language_info": {
   "codemirror_mode": {
    "name": "ipython",
    "version": 3
   },
   "file_extension": ".py",
   "mimetype": "text/x-python",
   "name": "python",
   "nbconvert_exporter": "python",
   "pygments_lexer": "ipython3",
   "version": "3.9.19"
  }
 },
 "nbformat": 4,
 "nbformat_minor": 2
}
